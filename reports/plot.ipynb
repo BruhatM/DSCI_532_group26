{
 "cells": [
  {
   "cell_type": "markdown",
   "metadata": {},
   "source": [
    "# Set up"
   ]
  },
  {
   "cell_type": "code",
   "execution_count": 1,
   "metadata": {},
   "outputs": [
    {
     "data": {
      "text/plain": [
       "DataTransformerRegistry.enable('data_server')"
      ]
     },
     "execution_count": 1,
     "metadata": {},
     "output_type": "execute_result"
    }
   ],
   "source": [
    "import altair as alt\n",
    "import pandas as pd\n",
    "\n",
    "# Save a vega-lite spec and a PNG blob for each plot in the notebook\n",
    "alt.renderers.enable('mimetype')\n",
    "# Handle large data sets without embedding them in the notebook\n",
    "alt.data_transformers.enable('data_server')"
   ]
  },
  {
   "cell_type": "markdown",
   "metadata": {},
   "source": [
    "# Load data "
   ]
  },
  {
   "cell_type": "code",
   "execution_count": 2,
   "metadata": {},
   "outputs": [],
   "source": [
    "raw_data = pd.read_csv(\"../data/raw/survey.csv\")"
   ]
  },
  {
   "cell_type": "code",
   "execution_count": 3,
   "metadata": {},
   "outputs": [
    {
     "data": {
      "text/plain": [
       "(1259, 27)"
      ]
     },
     "execution_count": 3,
     "metadata": {},
     "output_type": "execute_result"
    }
   ],
   "source": [
    "raw_data.shape"
   ]
  },
  {
   "cell_type": "code",
   "execution_count": 4,
   "metadata": {},
   "outputs": [
    {
     "data": {
      "text/html": [
       "<div>\n",
       "<style scoped>\n",
       "    .dataframe tbody tr th:only-of-type {\n",
       "        vertical-align: middle;\n",
       "    }\n",
       "\n",
       "    .dataframe tbody tr th {\n",
       "        vertical-align: top;\n",
       "    }\n",
       "\n",
       "    .dataframe thead th {\n",
       "        text-align: right;\n",
       "    }\n",
       "</style>\n",
       "<table border=\"1\" class=\"dataframe\">\n",
       "  <thead>\n",
       "    <tr style=\"text-align: right;\">\n",
       "      <th></th>\n",
       "      <th>Timestamp</th>\n",
       "      <th>Age</th>\n",
       "      <th>Gender</th>\n",
       "      <th>Country</th>\n",
       "      <th>state</th>\n",
       "      <th>self_employed</th>\n",
       "      <th>family_history</th>\n",
       "      <th>treatment</th>\n",
       "      <th>work_interfere</th>\n",
       "      <th>no_employees</th>\n",
       "      <th>...</th>\n",
       "      <th>leave</th>\n",
       "      <th>mental_health_consequence</th>\n",
       "      <th>phys_health_consequence</th>\n",
       "      <th>coworkers</th>\n",
       "      <th>supervisor</th>\n",
       "      <th>mental_health_interview</th>\n",
       "      <th>phys_health_interview</th>\n",
       "      <th>mental_vs_physical</th>\n",
       "      <th>obs_consequence</th>\n",
       "      <th>comments</th>\n",
       "    </tr>\n",
       "  </thead>\n",
       "  <tbody>\n",
       "    <tr>\n",
       "      <th>0</th>\n",
       "      <td>2014-08-27 11:29:31</td>\n",
       "      <td>37</td>\n",
       "      <td>Female</td>\n",
       "      <td>United States</td>\n",
       "      <td>IL</td>\n",
       "      <td>NaN</td>\n",
       "      <td>No</td>\n",
       "      <td>Yes</td>\n",
       "      <td>Often</td>\n",
       "      <td>6-25</td>\n",
       "      <td>...</td>\n",
       "      <td>Somewhat easy</td>\n",
       "      <td>No</td>\n",
       "      <td>No</td>\n",
       "      <td>Some of them</td>\n",
       "      <td>Yes</td>\n",
       "      <td>No</td>\n",
       "      <td>Maybe</td>\n",
       "      <td>Yes</td>\n",
       "      <td>No</td>\n",
       "      <td>NaN</td>\n",
       "    </tr>\n",
       "    <tr>\n",
       "      <th>1</th>\n",
       "      <td>2014-08-27 11:29:37</td>\n",
       "      <td>44</td>\n",
       "      <td>M</td>\n",
       "      <td>United States</td>\n",
       "      <td>IN</td>\n",
       "      <td>NaN</td>\n",
       "      <td>No</td>\n",
       "      <td>No</td>\n",
       "      <td>Rarely</td>\n",
       "      <td>More than 1000</td>\n",
       "      <td>...</td>\n",
       "      <td>Don't know</td>\n",
       "      <td>Maybe</td>\n",
       "      <td>No</td>\n",
       "      <td>No</td>\n",
       "      <td>No</td>\n",
       "      <td>No</td>\n",
       "      <td>No</td>\n",
       "      <td>Don't know</td>\n",
       "      <td>No</td>\n",
       "      <td>NaN</td>\n",
       "    </tr>\n",
       "    <tr>\n",
       "      <th>2</th>\n",
       "      <td>2014-08-27 11:29:44</td>\n",
       "      <td>32</td>\n",
       "      <td>Male</td>\n",
       "      <td>Canada</td>\n",
       "      <td>NaN</td>\n",
       "      <td>NaN</td>\n",
       "      <td>No</td>\n",
       "      <td>No</td>\n",
       "      <td>Rarely</td>\n",
       "      <td>6-25</td>\n",
       "      <td>...</td>\n",
       "      <td>Somewhat difficult</td>\n",
       "      <td>No</td>\n",
       "      <td>No</td>\n",
       "      <td>Yes</td>\n",
       "      <td>Yes</td>\n",
       "      <td>Yes</td>\n",
       "      <td>Yes</td>\n",
       "      <td>No</td>\n",
       "      <td>No</td>\n",
       "      <td>NaN</td>\n",
       "    </tr>\n",
       "    <tr>\n",
       "      <th>3</th>\n",
       "      <td>2014-08-27 11:29:46</td>\n",
       "      <td>31</td>\n",
       "      <td>Male</td>\n",
       "      <td>United Kingdom</td>\n",
       "      <td>NaN</td>\n",
       "      <td>NaN</td>\n",
       "      <td>Yes</td>\n",
       "      <td>Yes</td>\n",
       "      <td>Often</td>\n",
       "      <td>26-100</td>\n",
       "      <td>...</td>\n",
       "      <td>Somewhat difficult</td>\n",
       "      <td>Yes</td>\n",
       "      <td>Yes</td>\n",
       "      <td>Some of them</td>\n",
       "      <td>No</td>\n",
       "      <td>Maybe</td>\n",
       "      <td>Maybe</td>\n",
       "      <td>No</td>\n",
       "      <td>Yes</td>\n",
       "      <td>NaN</td>\n",
       "    </tr>\n",
       "    <tr>\n",
       "      <th>4</th>\n",
       "      <td>2014-08-27 11:30:22</td>\n",
       "      <td>31</td>\n",
       "      <td>Male</td>\n",
       "      <td>United States</td>\n",
       "      <td>TX</td>\n",
       "      <td>NaN</td>\n",
       "      <td>No</td>\n",
       "      <td>No</td>\n",
       "      <td>Never</td>\n",
       "      <td>100-500</td>\n",
       "      <td>...</td>\n",
       "      <td>Don't know</td>\n",
       "      <td>No</td>\n",
       "      <td>No</td>\n",
       "      <td>Some of them</td>\n",
       "      <td>Yes</td>\n",
       "      <td>Yes</td>\n",
       "      <td>Yes</td>\n",
       "      <td>Don't know</td>\n",
       "      <td>No</td>\n",
       "      <td>NaN</td>\n",
       "    </tr>\n",
       "  </tbody>\n",
       "</table>\n",
       "<p>5 rows × 27 columns</p>\n",
       "</div>"
      ],
      "text/plain": [
       "             Timestamp  Age  Gender         Country state self_employed  \\\n",
       "0  2014-08-27 11:29:31   37  Female   United States    IL           NaN   \n",
       "1  2014-08-27 11:29:37   44       M   United States    IN           NaN   \n",
       "2  2014-08-27 11:29:44   32    Male          Canada   NaN           NaN   \n",
       "3  2014-08-27 11:29:46   31    Male  United Kingdom   NaN           NaN   \n",
       "4  2014-08-27 11:30:22   31    Male   United States    TX           NaN   \n",
       "\n",
       "  family_history treatment work_interfere    no_employees  ...  \\\n",
       "0             No       Yes          Often            6-25  ...   \n",
       "1             No        No         Rarely  More than 1000  ...   \n",
       "2             No        No         Rarely            6-25  ...   \n",
       "3            Yes       Yes          Often          26-100  ...   \n",
       "4             No        No          Never         100-500  ...   \n",
       "\n",
       "                leave mental_health_consequence phys_health_consequence  \\\n",
       "0       Somewhat easy                        No                      No   \n",
       "1          Don't know                     Maybe                      No   \n",
       "2  Somewhat difficult                        No                      No   \n",
       "3  Somewhat difficult                       Yes                     Yes   \n",
       "4          Don't know                        No                      No   \n",
       "\n",
       "      coworkers supervisor mental_health_interview phys_health_interview  \\\n",
       "0  Some of them        Yes                      No                 Maybe   \n",
       "1            No         No                      No                    No   \n",
       "2           Yes        Yes                     Yes                   Yes   \n",
       "3  Some of them         No                   Maybe                 Maybe   \n",
       "4  Some of them        Yes                     Yes                   Yes   \n",
       "\n",
       "  mental_vs_physical obs_consequence comments  \n",
       "0                Yes              No      NaN  \n",
       "1         Don't know              No      NaN  \n",
       "2                 No              No      NaN  \n",
       "3                 No             Yes      NaN  \n",
       "4         Don't know              No      NaN  \n",
       "\n",
       "[5 rows x 27 columns]"
      ]
     },
     "execution_count": 4,
     "metadata": {},
     "output_type": "execute_result"
    }
   ],
   "source": [
    "raw_data.head()"
   ]
  },
  {
   "cell_type": "markdown",
   "metadata": {},
   "source": [
    "# Extract data \n",
    "- Timestamp, Country, family_history, Gender, seek_help, benefits"
   ]
  },
  {
   "cell_type": "code",
   "execution_count": 5,
   "metadata": {},
   "outputs": [
    {
     "data": {
      "text/html": [
       "<div>\n",
       "<style scoped>\n",
       "    .dataframe tbody tr th:only-of-type {\n",
       "        vertical-align: middle;\n",
       "    }\n",
       "\n",
       "    .dataframe tbody tr th {\n",
       "        vertical-align: top;\n",
       "    }\n",
       "\n",
       "    .dataframe thead th {\n",
       "        text-align: right;\n",
       "    }\n",
       "</style>\n",
       "<table border=\"1\" class=\"dataframe\">\n",
       "  <thead>\n",
       "    <tr style=\"text-align: right;\">\n",
       "      <th></th>\n",
       "      <th>Timestamp</th>\n",
       "      <th>Country</th>\n",
       "      <th>family_history</th>\n",
       "      <th>Gender</th>\n",
       "      <th>seek_help</th>\n",
       "      <th>benefits</th>\n",
       "    </tr>\n",
       "  </thead>\n",
       "  <tbody>\n",
       "    <tr>\n",
       "      <th>0</th>\n",
       "      <td>2014-08-27 11:29:31</td>\n",
       "      <td>United States</td>\n",
       "      <td>No</td>\n",
       "      <td>Female</td>\n",
       "      <td>Yes</td>\n",
       "      <td>Yes</td>\n",
       "    </tr>\n",
       "    <tr>\n",
       "      <th>1</th>\n",
       "      <td>2014-08-27 11:29:37</td>\n",
       "      <td>United States</td>\n",
       "      <td>No</td>\n",
       "      <td>M</td>\n",
       "      <td>Don't know</td>\n",
       "      <td>Don't know</td>\n",
       "    </tr>\n",
       "    <tr>\n",
       "      <th>2</th>\n",
       "      <td>2014-08-27 11:29:44</td>\n",
       "      <td>Canada</td>\n",
       "      <td>No</td>\n",
       "      <td>Male</td>\n",
       "      <td>No</td>\n",
       "      <td>No</td>\n",
       "    </tr>\n",
       "    <tr>\n",
       "      <th>3</th>\n",
       "      <td>2014-08-27 11:29:46</td>\n",
       "      <td>United Kingdom</td>\n",
       "      <td>Yes</td>\n",
       "      <td>Male</td>\n",
       "      <td>No</td>\n",
       "      <td>No</td>\n",
       "    </tr>\n",
       "    <tr>\n",
       "      <th>4</th>\n",
       "      <td>2014-08-27 11:30:22</td>\n",
       "      <td>United States</td>\n",
       "      <td>No</td>\n",
       "      <td>Male</td>\n",
       "      <td>Don't know</td>\n",
       "      <td>Yes</td>\n",
       "    </tr>\n",
       "  </tbody>\n",
       "</table>\n",
       "</div>"
      ],
      "text/plain": [
       "             Timestamp         Country family_history  Gender   seek_help  \\\n",
       "0  2014-08-27 11:29:31   United States             No  Female         Yes   \n",
       "1  2014-08-27 11:29:37   United States             No       M  Don't know   \n",
       "2  2014-08-27 11:29:44          Canada             No    Male          No   \n",
       "3  2014-08-27 11:29:46  United Kingdom            Yes    Male          No   \n",
       "4  2014-08-27 11:30:22   United States             No    Male  Don't know   \n",
       "\n",
       "     benefits  \n",
       "0         Yes  \n",
       "1  Don't know  \n",
       "2          No  \n",
       "3          No  \n",
       "4         Yes  "
      ]
     },
     "execution_count": 5,
     "metadata": {},
     "output_type": "execute_result"
    }
   ],
   "source": [
    "processed_data = raw_data[[\"Timestamp\", \"Country\", \"family_history\", \"Gender\", \"seek_help\", \"benefits\"]]\n",
    "processed_data.head()"
   ]
  },
  {
   "cell_type": "markdown",
   "metadata": {},
   "source": [
    "- Data cleaning for \"Gender\""
   ]
  },
  {
   "cell_type": "code",
   "execution_count": 6,
   "metadata": {},
   "outputs": [
    {
     "data": {
      "text/plain": [
       "{'A little about you',\n",
       " 'Agender',\n",
       " 'All',\n",
       " 'Androgyne',\n",
       " 'Cis Female',\n",
       " 'Cis Male',\n",
       " 'Cis Man',\n",
       " 'Enby',\n",
       " 'F',\n",
       " 'Femake',\n",
       " 'Female',\n",
       " 'Female ',\n",
       " 'Female (cis)',\n",
       " 'Female (trans)',\n",
       " 'Genderqueer',\n",
       " 'Guy (-ish) ^_^',\n",
       " 'M',\n",
       " 'Mail',\n",
       " 'Make',\n",
       " 'Mal',\n",
       " 'Male',\n",
       " 'Male ',\n",
       " 'Male (CIS)',\n",
       " 'Male-ish',\n",
       " 'Malr',\n",
       " 'Man',\n",
       " 'Nah',\n",
       " 'Neuter',\n",
       " 'Trans woman',\n",
       " 'Trans-female',\n",
       " 'Woman',\n",
       " 'cis male',\n",
       " 'cis-female/femme',\n",
       " 'f',\n",
       " 'femail',\n",
       " 'female',\n",
       " 'fluid',\n",
       " 'm',\n",
       " 'maile',\n",
       " 'male',\n",
       " 'male leaning androgynous',\n",
       " 'msle',\n",
       " 'non-binary',\n",
       " 'ostensibly male, unsure what that really means',\n",
       " 'p',\n",
       " 'queer',\n",
       " 'queer/she/they',\n",
       " 'something kinda male?',\n",
       " 'woman'}"
      ]
     },
     "execution_count": 6,
     "metadata": {},
     "output_type": "execute_result"
    }
   ],
   "source": [
    "set(processed_data[\"Gender\"])"
   ]
  },
  {
   "cell_type": "code",
   "execution_count": 7,
   "metadata": {},
   "outputs": [],
   "source": [
    "processed_data = processed_data[(processed_data['Gender'] == \"Male\") | (processed_data['Gender'] == \"M\") | \n",
    "                      (processed_data['Gender'] == \"m\") | (processed_data['Gender'] == \"male\") | \n",
    "                      (processed_data['Gender'] == \"Female\") | (processed_data['Gender'] == \"female\") | \n",
    "                      (processed_data['Gender'] == \"f\") | (processed_data['Gender'] == \"F\")]"
   ]
  },
  {
   "cell_type": "code",
   "execution_count": 8,
   "metadata": {},
   "outputs": [
    {
     "data": {
      "text/plain": [
       "(1207, 6)"
      ]
     },
     "execution_count": 8,
     "metadata": {},
     "output_type": "execute_result"
    }
   ],
   "source": [
    "processed_data.shape"
   ]
  },
  {
   "cell_type": "code",
   "execution_count": 9,
   "metadata": {},
   "outputs": [],
   "source": [
    "processed_data['Gender'] = processed_data['Gender'].replace(['Male', \"m\", \"male\"],'M')\n",
    "processed_data['Gender'] = processed_data['Gender'].replace(['Female', \"f\", \"female\"],'F')"
   ]
  },
  {
   "cell_type": "code",
   "execution_count": 10,
   "metadata": {},
   "outputs": [
    {
     "data": {
      "text/plain": [
       "{'F', 'M'}"
      ]
     },
     "execution_count": 10,
     "metadata": {},
     "output_type": "execute_result"
    }
   ],
   "source": [
    "set(processed_data[\"Gender\"])"
   ]
  },
  {
   "cell_type": "markdown",
   "metadata": {},
   "source": [
    "# Add col for proportion"
   ]
  },
  {
   "cell_type": "code",
   "execution_count": 11,
   "metadata": {},
   "outputs": [
    {
     "data": {
      "text/html": [
       "<div>\n",
       "<style scoped>\n",
       "    .dataframe tbody tr th:only-of-type {\n",
       "        vertical-align: middle;\n",
       "    }\n",
       "\n",
       "    .dataframe tbody tr th {\n",
       "        vertical-align: top;\n",
       "    }\n",
       "\n",
       "    .dataframe thead th {\n",
       "        text-align: right;\n",
       "    }\n",
       "</style>\n",
       "<table border=\"1\" class=\"dataframe\">\n",
       "  <thead>\n",
       "    <tr style=\"text-align: right;\">\n",
       "      <th></th>\n",
       "      <th>Timestamp</th>\n",
       "      <th>Country</th>\n",
       "      <th>family_history</th>\n",
       "      <th>Gender</th>\n",
       "      <th>seek_help</th>\n",
       "      <th>benefits</th>\n",
       "      <th>prop</th>\n",
       "    </tr>\n",
       "  </thead>\n",
       "  <tbody>\n",
       "    <tr>\n",
       "      <th>0</th>\n",
       "      <td>2014-08-27 11:29:31</td>\n",
       "      <td>United States</td>\n",
       "      <td>No</td>\n",
       "      <td>F</td>\n",
       "      <td>Yes</td>\n",
       "      <td>Yes</td>\n",
       "      <td>0.000829</td>\n",
       "    </tr>\n",
       "    <tr>\n",
       "      <th>1</th>\n",
       "      <td>2014-08-27 11:29:37</td>\n",
       "      <td>United States</td>\n",
       "      <td>No</td>\n",
       "      <td>M</td>\n",
       "      <td>Don't know</td>\n",
       "      <td>Don't know</td>\n",
       "      <td>0.000829</td>\n",
       "    </tr>\n",
       "    <tr>\n",
       "      <th>2</th>\n",
       "      <td>2014-08-27 11:29:44</td>\n",
       "      <td>Canada</td>\n",
       "      <td>No</td>\n",
       "      <td>M</td>\n",
       "      <td>No</td>\n",
       "      <td>No</td>\n",
       "      <td>0.000829</td>\n",
       "    </tr>\n",
       "    <tr>\n",
       "      <th>3</th>\n",
       "      <td>2014-08-27 11:29:46</td>\n",
       "      <td>United Kingdom</td>\n",
       "      <td>Yes</td>\n",
       "      <td>M</td>\n",
       "      <td>No</td>\n",
       "      <td>No</td>\n",
       "      <td>0.000829</td>\n",
       "    </tr>\n",
       "    <tr>\n",
       "      <th>4</th>\n",
       "      <td>2014-08-27 11:30:22</td>\n",
       "      <td>United States</td>\n",
       "      <td>No</td>\n",
       "      <td>M</td>\n",
       "      <td>Don't know</td>\n",
       "      <td>Yes</td>\n",
       "      <td>0.000829</td>\n",
       "    </tr>\n",
       "    <tr>\n",
       "      <th>...</th>\n",
       "      <td>...</td>\n",
       "      <td>...</td>\n",
       "      <td>...</td>\n",
       "      <td>...</td>\n",
       "      <td>...</td>\n",
       "      <td>...</td>\n",
       "      <td>...</td>\n",
       "    </tr>\n",
       "    <tr>\n",
       "      <th>1254</th>\n",
       "      <td>2015-09-12 11:17:21</td>\n",
       "      <td>United Kingdom</td>\n",
       "      <td>No</td>\n",
       "      <td>M</td>\n",
       "      <td>No</td>\n",
       "      <td>No</td>\n",
       "      <td>0.000829</td>\n",
       "    </tr>\n",
       "    <tr>\n",
       "      <th>1255</th>\n",
       "      <td>2015-09-26 01:07:35</td>\n",
       "      <td>United States</td>\n",
       "      <td>Yes</td>\n",
       "      <td>M</td>\n",
       "      <td>No</td>\n",
       "      <td>Yes</td>\n",
       "      <td>0.000829</td>\n",
       "    </tr>\n",
       "    <tr>\n",
       "      <th>1256</th>\n",
       "      <td>2015-11-07 12:36:58</td>\n",
       "      <td>United States</td>\n",
       "      <td>Yes</td>\n",
       "      <td>M</td>\n",
       "      <td>No</td>\n",
       "      <td>Yes</td>\n",
       "      <td>0.000829</td>\n",
       "    </tr>\n",
       "    <tr>\n",
       "      <th>1257</th>\n",
       "      <td>2015-11-30 21:25:06</td>\n",
       "      <td>United States</td>\n",
       "      <td>No</td>\n",
       "      <td>F</td>\n",
       "      <td>No</td>\n",
       "      <td>No</td>\n",
       "      <td>0.000829</td>\n",
       "    </tr>\n",
       "    <tr>\n",
       "      <th>1258</th>\n",
       "      <td>2016-02-01 23:04:31</td>\n",
       "      <td>United States</td>\n",
       "      <td>Yes</td>\n",
       "      <td>M</td>\n",
       "      <td>No</td>\n",
       "      <td>Yes</td>\n",
       "      <td>0.000829</td>\n",
       "    </tr>\n",
       "  </tbody>\n",
       "</table>\n",
       "<p>1207 rows × 7 columns</p>\n",
       "</div>"
      ],
      "text/plain": [
       "                Timestamp         Country family_history Gender   seek_help  \\\n",
       "0     2014-08-27 11:29:31   United States             No      F         Yes   \n",
       "1     2014-08-27 11:29:37   United States             No      M  Don't know   \n",
       "2     2014-08-27 11:29:44          Canada             No      M          No   \n",
       "3     2014-08-27 11:29:46  United Kingdom            Yes      M          No   \n",
       "4     2014-08-27 11:30:22   United States             No      M  Don't know   \n",
       "...                   ...             ...            ...    ...         ...   \n",
       "1254  2015-09-12 11:17:21  United Kingdom             No      M          No   \n",
       "1255  2015-09-26 01:07:35   United States            Yes      M          No   \n",
       "1256  2015-11-07 12:36:58   United States            Yes      M          No   \n",
       "1257  2015-11-30 21:25:06   United States             No      F          No   \n",
       "1258  2016-02-01 23:04:31   United States            Yes      M          No   \n",
       "\n",
       "        benefits      prop  \n",
       "0            Yes  0.000829  \n",
       "1     Don't know  0.000829  \n",
       "2             No  0.000829  \n",
       "3             No  0.000829  \n",
       "4            Yes  0.000829  \n",
       "...          ...       ...  \n",
       "1254          No  0.000829  \n",
       "1255         Yes  0.000829  \n",
       "1256         Yes  0.000829  \n",
       "1257          No  0.000829  \n",
       "1258         Yes  0.000829  \n",
       "\n",
       "[1207 rows x 7 columns]"
      ]
     },
     "execution_count": 11,
     "metadata": {},
     "output_type": "execute_result"
    }
   ],
   "source": [
    "processed_data['prop'] = 1/1207\n",
    "processed_data"
   ]
  },
  {
   "cell_type": "code",
   "execution_count": 12,
   "metadata": {},
   "outputs": [],
   "source": [
    "processed_data.to_csv(\"../data/processed/processed_survey.csv\")"
   ]
  },
  {
   "cell_type": "markdown",
   "metadata": {},
   "source": [
    "# Plot"
   ]
  },
  {
   "cell_type": "code",
   "execution_count": 13,
   "metadata": {},
   "outputs": [
    {
     "data": {
      "application/vnd.vegalite.v4+json": {
       "$schema": "https://vega.github.io/schema/vega-lite/v4.8.1.json",
       "config": {
        "view": {
         "continuousHeight": 300,
         "continuousWidth": 400
        }
       },
       "data": {
        "url": "http://localhost:21421/87124efc4ac6b41af15dab4a9d29a484.json"
       },
       "encoding": {
        "tooltip": {
         "field": "Country",
         "type": "nominal"
        },
        "x": {
         "field": "Country",
         "sort": "-y",
         "type": "nominal"
        },
        "y": {
         "aggregate": "sum",
         "axis": {
          "format": "%"
         },
         "field": "prop",
         "title": "Proportion of population",
         "type": "quantitative"
        }
       },
       "mark": "bar",
       "title": "Location"
      },
      "image/png": "[encoded data removed]",
      "text/plain": [
       "<VegaLite 4 object>\n",
       "\n",
       "If you see this message, it means the renderer has not been properly enabled\n",
       "for the frontend that you are using. For more information, see\n",
       "https://altair-viz.github.io/user_guide/troubleshooting.html\n"
      ]
     },
     "execution_count": 13,
     "metadata": {},
     "output_type": "execute_result"
    }
   ],
   "source": [
    "alt.Chart(processed_data, title='Location').mark_bar().encode(\n",
    "    x=alt.X('Country', sort='-y'),\n",
    "    y=alt.Y('sum(prop)', axis=alt.Axis(format='%'), title='Proportion of population'),\n",
    "    tooltip='Country')"
   ]
  },
  {
   "cell_type": "code",
   "execution_count": 14,
   "metadata": {},
   "outputs": [
    {
     "data": {
      "application/vnd.vegalite.v4+json": {
       "$schema": "https://vega.github.io/schema/vega-lite/v4.8.1.json",
       "config": {
        "view": {
         "continuousHeight": 300,
         "continuousWidth": 400
        }
       },
       "data": {
        "url": "http://localhost:21421/87124efc4ac6b41af15dab4a9d29a484.json"
       },
       "encoding": {
        "color": {
         "field": "Gender",
         "type": "nominal"
        },
        "tooltip": {
         "field": "Gender",
         "type": "nominal"
        },
        "x": {
         "field": "family_history",
         "type": "nominal"
        },
        "y": {
         "aggregate": "sum",
         "axis": {
          "format": "%"
         },
         "field": "prop",
         "title": "Proportion of population",
         "type": "quantitative"
        }
       },
       "mark": "bar",
       "title": "Family history"
      },
      "image/png": "[encoded data removed]",
      "text/plain": [
       "<VegaLite 4 object>\n",
       "\n",
       "If you see this message, it means the renderer has not been properly enabled\n",
       "for the frontend that you are using. For more information, see\n",
       "https://altair-viz.github.io/user_guide/troubleshooting.html\n"
      ]
     },
     "execution_count": 14,
     "metadata": {},
     "output_type": "execute_result"
    }
   ],
   "source": [
    "alt.Chart(processed_data, title='Family history').mark_bar().encode(\n",
    "    x=alt.X('family_history'),\n",
    "    y=alt.Y('sum(prop)', axis=alt.Axis(format='%'), title='Proportion of population'),\n",
    "    color='Gender', \n",
    "    tooltip='Gender')  "
   ]
  },
  {
   "cell_type": "code",
   "execution_count": 15,
   "metadata": {},
   "outputs": [
    {
     "data": {
      "application/vnd.vegalite.v4+json": {
       "$schema": "https://vega.github.io/schema/vega-lite/v4.8.1.json",
       "config": {
        "view": {
         "continuousHeight": 300,
         "continuousWidth": 400
        }
       },
       "data": {
        "url": "http://localhost:21421/87124efc4ac6b41af15dab4a9d29a484.json"
       },
       "encoding": {
        "color": {
         "field": "Gender",
         "type": "nominal"
        },
        "tooltip": {
         "field": "Gender",
         "type": "nominal"
        },
        "x": {
         "field": "seek_help",
         "type": "nominal"
        },
        "y": {
         "aggregate": "sum",
         "axis": {
          "format": "%"
         },
         "field": "prop",
         "title": "Proportion of population",
         "type": "quantitative"
        }
       },
       "mark": "bar",
       "title": "Sought help"
      },
      "image/png": "[encoded data removed]",
      "text/plain": [
       "<VegaLite 4 object>\n",
       "\n",
       "If you see this message, it means the renderer has not been properly enabled\n",
       "for the frontend that you are using. For more information, see\n",
       "https://altair-viz.github.io/user_guide/troubleshooting.html\n"
      ]
     },
     "execution_count": 15,
     "metadata": {},
     "output_type": "execute_result"
    }
   ],
   "source": [
    "alt.Chart(processed_data, title='Sought help').mark_bar().encode(\n",
    "    x=alt.X('seek_help'),\n",
    "    y=alt.Y('sum(prop)', axis=alt.Axis(format='%'), title='Proportion of population'),\n",
    "    color='Gender', \n",
    "    tooltip='Gender')"
   ]
  },
  {
   "cell_type": "code",
   "execution_count": 16,
   "metadata": {},
   "outputs": [
    {
     "data": {
      "application/vnd.vegalite.v4+json": {
       "$schema": "https://vega.github.io/schema/vega-lite/v4.8.1.json",
       "config": {
        "view": {
         "continuousHeight": 300,
         "continuousWidth": 400
        }
       },
       "data": {
        "url": "http://localhost:21421/87124efc4ac6b41af15dab4a9d29a484.json"
       },
       "encoding": {
        "color": {
         "field": "Gender",
         "type": "nominal"
        },
        "tooltip": {
         "field": "Gender",
         "type": "nominal"
        },
        "x": {
         "field": "benefits",
         "type": "nominal"
        },
        "y": {
         "aggregate": "sum",
         "axis": {
          "format": "%"
         },
         "field": "prop",
         "title": "Proportion of population",
         "type": "quantitative"
        }
       },
       "mark": "bar",
       "title": "Workplace benefits"
      },
      "image/png": "[encoded data removed]",
      "text/plain": [
       "<VegaLite 4 object>\n",
       "\n",
       "If you see this message, it means the renderer has not been properly enabled\n",
       "for the frontend that you are using. For more information, see\n",
       "https://altair-viz.github.io/user_guide/troubleshooting.html\n"
      ]
     },
     "execution_count": 16,
     "metadata": {},
     "output_type": "execute_result"
    }
   ],
   "source": [
    "alt.Chart(processed_data, title='Workplace benefits').mark_bar().encode(\n",
    "    x=alt.X('benefits'),\n",
    "    y=alt.Y('sum(prop)', axis=alt.Axis(format='%'), title='Proportion of population'),\n",
    "    color='Gender', \n",
    "    tooltip='Gender')"
   ]
  }
 ],
 "metadata": {
  "kernelspec": {
   "display_name": "Python [conda env:532]",
   "language": "python",
   "name": "conda-env-532-py"
  },
  "language_info": {
   "codemirror_mode": {
    "name": "ipython",
    "version": 3
   },
   "file_extension": ".py",
   "mimetype": "text/x-python",
   "name": "python",
   "nbconvert_exporter": "python",
   "pygments_lexer": "ipython3",
   "version": "3.9.1"
  }
 },
 "nbformat": 4,
 "nbformat_minor": 4
}
